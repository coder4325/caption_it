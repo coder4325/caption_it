{
 "cells": [
  {
   "cell_type": "markdown",
   "metadata": {},
   "source": [
    "# A  Little backend script "
   ]
  },
  {
   "cell_type": "code",
   "execution_count": null,
   "metadata": {},
   "outputs": [
    {
     "name": "stdout",
     "output_type": "stream",
     "text": [
      " * Serving Flask app \"__main__\" (lazy loading)\n",
      " * Environment: production\n",
      "   WARNING: This is a development server. Do not use it in a production deployment.\n",
      "   Use a production WSGI server instead.\n",
      " * Debug mode: off\n"
     ]
    },
    {
     "name": "stderr",
     "output_type": "stream",
     "text": [
      " * Running on http://127.0.0.1:5000/ (Press CTRL+C to quit)\n",
      "127.0.0.1 - - [26/Sep/2021 16:03:59] \"\u001b[37mGET / HTTP/1.1\u001b[0m\" 200 -\n",
      "127.0.0.1 - - [26/Sep/2021 16:09:53] \"\u001b[37mGET / HTTP/1.1\u001b[0m\" 200 -\n",
      "127.0.0.1 - - [26/Sep/2021 16:10:59] \"\u001b[37mPOST / HTTP/1.1\u001b[0m\" 200 -\n",
      "127.0.0.1 - - [26/Sep/2021 16:11:18] \"\u001b[37mPOST / HTTP/1.1\u001b[0m\" 200 -\n",
      "127.0.0.1 - - [26/Sep/2021 16:11:39] \"\u001b[37mPOST / HTTP/1.1\u001b[0m\" 200 -\n",
      "127.0.0.1 - - [26/Sep/2021 16:12:01] \"\u001b[37mPOST / HTTP/1.1\u001b[0m\" 200 -\n",
      "127.0.0.1 - - [26/Sep/2021 16:12:01] \"\u001b[37mGET /static/190638179_be9da86589.jpg HTTP/1.1\u001b[0m\" 200 -\n",
      "[2021-09-26 17:31:08,063] ERROR in app: Exception on / [POST]\n",
      "Traceback (most recent call last):\n",
      "  File \"C:\\ProgramData\\Anaconda3\\lib\\site-packages\\flask\\app.py\", line 2447, in wsgi_app\n",
      "    response = self.full_dispatch_request()\n",
      "  File \"C:\\ProgramData\\Anaconda3\\lib\\site-packages\\flask\\app.py\", line 1952, in full_dispatch_request\n",
      "    rv = self.handle_user_exception(e)\n",
      "  File \"C:\\ProgramData\\Anaconda3\\lib\\site-packages\\flask\\app.py\", line 1821, in handle_user_exception\n",
      "    reraise(exc_type, exc_value, tb)\n",
      "  File \"C:\\ProgramData\\Anaconda3\\lib\\site-packages\\flask\\_compat.py\", line 39, in reraise\n",
      "    raise value\n",
      "  File \"C:\\ProgramData\\Anaconda3\\lib\\site-packages\\flask\\app.py\", line 1950, in full_dispatch_request\n",
      "    rv = self.dispatch_request()\n",
      "  File \"C:\\ProgramData\\Anaconda3\\lib\\site-packages\\flask\\app.py\", line 1936, in dispatch_request\n",
      "    return self.view_functions[rule.endpoint](**req.view_args)\n",
      "  File \"<ipython-input-1-17fb3c3b1e19>\", line 21, in marks\n",
      "    f.save(path)\n",
      "  File \"C:\\ProgramData\\Anaconda3\\lib\\site-packages\\werkzeug\\datastructures.py\", line 3066, in save\n",
      "    dst = open(dst, \"wb\")\n",
      "PermissionError: [Errno 13] Permission denied: './static/'\n",
      "127.0.0.1 - - [26/Sep/2021 17:31:08] \"\u001b[35m\u001b[1mPOST / HTTP/1.1\u001b[0m\" 500 -\n",
      "127.0.0.1 - - [26/Sep/2021 17:31:10] \"\u001b[37mGET / HTTP/1.1\u001b[0m\" 200 -\n",
      "127.0.0.1 - - [26/Sep/2021 17:32:36] \"\u001b[37mPOST / HTTP/1.1\u001b[0m\" 200 -\n",
      "127.0.0.1 - - [26/Sep/2021 17:32:36] \"\u001b[37mGET /static/35506150_cbdb630f4f.jpg HTTP/1.1\u001b[0m\" 200 -\n",
      "127.0.0.1 - - [26/Sep/2021 17:32:54] \"\u001b[37mPOST / HTTP/1.1\u001b[0m\" 200 -\n",
      "127.0.0.1 - - [26/Sep/2021 17:32:54] \"\u001b[37mGET /static/229951087_4c20600c32.jpg HTTP/1.1\u001b[0m\" 200 -\n",
      "127.0.0.1 - - [26/Sep/2021 17:33:20] \"\u001b[37mPOST / HTTP/1.1\u001b[0m\" 200 -\n",
      "127.0.0.1 - - [26/Sep/2021 17:33:20] \"\u001b[37mGET /static/174466741_329a52b2fe.jpg HTTP/1.1\u001b[0m\" 200 -\n"
     ]
    }
   ],
   "source": [
    "\n",
    "from flask import Flask, render_template, redirect, request\n",
    "\n",
    "import Caption_it\n",
    "\n",
    "\n",
    "# __name__ == __main__\n",
    "app = Flask(__name__)\n",
    "\n",
    "\n",
    "@app.route('/')\n",
    "def hello():\n",
    "\treturn render_template(\"index.html\")\n",
    "\n",
    "\n",
    "@app.route('/', methods= ['POST'])\n",
    "def marks():\n",
    "\tif request.method == 'POST':\n",
    "\n",
    "\t\tf = request.files['userfile']\n",
    "\t\tpath = \"./static/{}\".format(f.filename)# ./static/images.jpg\n",
    "\t\tf.save(path)\n",
    "\n",
    "\t\tcaption = Caption_it.caption_this_image(path)\n",
    "\t\t\n",
    "\t\tresult_dic = {\n",
    "\t\t'image' : path,\n",
    "\t\t'caption' : caption\n",
    "\t\t}\n",
    "\n",
    "\treturn render_template(\"index.html\", your_result =result_dic)\n",
    "\n",
    "if __name__ == '__main__':\n",
    "\t# app.debug = True\n",
    "\t# due to versions of keras we need to pass another paramter threaded = Flase to this run function\n",
    "\tapp.run(debug = False, threaded = False)"
   ]
  },
  {
   "cell_type": "code",
   "execution_count": null,
   "metadata": {},
   "outputs": [],
   "source": []
  },
  {
   "cell_type": "code",
   "execution_count": null,
   "metadata": {},
   "outputs": [],
   "source": []
  },
  {
   "cell_type": "code",
   "execution_count": null,
   "metadata": {},
   "outputs": [],
   "source": []
  },
  {
   "cell_type": "code",
   "execution_count": null,
   "metadata": {},
   "outputs": [],
   "source": []
  }
 ],
 "metadata": {
  "kernelspec": {
   "display_name": "Python 3",
   "language": "python",
   "name": "python3"
  },
  "language_info": {
   "codemirror_mode": {
    "name": "ipython",
    "version": 3
   },
   "file_extension": ".py",
   "mimetype": "text/x-python",
   "name": "python",
   "nbconvert_exporter": "python",
   "pygments_lexer": "ipython3",
   "version": "3.8.5"
  }
 },
 "nbformat": 4,
 "nbformat_minor": 4
}
